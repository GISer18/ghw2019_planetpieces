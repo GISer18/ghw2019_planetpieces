{
 "cells": [
  {
   "cell_type": "markdown",
   "metadata": {},
   "source": [
    "# Planet Pieces"
   ]
  },
  {
   "cell_type": "markdown",
   "metadata": {},
   "source": [
    "### A quick dive into what it takes to train and put together a neural network in two afternoons."
   ]
  },
  {
   "cell_type": "markdown",
   "metadata": {},
   "source": [
    "---"
   ]
  },
  {
   "cell_type": "markdown",
   "metadata": {},
   "source": [
    "### Team members:  \n",
    "*Nga (Nancy) Nguyen  - Louisiana State University  \n",
    "Claire Miles - Ceres Imaging  \n",
    "Joshua Driscol - University of Washington  \n",
    "Matt Olson - Utah State University   \n",
    "Mike Leech - Environmental Science Associates  \n",
    "Shashank Bhushan - University of Washington  \n",
    "Michelle Hu - University of Washington*  "
   ]
  },
  {
   "cell_type": "markdown",
   "metadata": {},
   "source": [
    "### Purpose: \n",
    "\n",
    "To explore the world of convolutional neural networks and train a model to classify land features in a high resolution context"
   ]
  },
  {
   "cell_type": "markdown",
   "metadata": {},
   "source": [
    "### Data:"
   ]
  },
  {
   "cell_type": "markdown",
   "metadata": {},
   "source": [
    "82 [PlanetScope Analytic Ortho Tile images](https://www.planet.com/products/satellite-imagery/planetscope-analytic-ortho-tile/)  \n",
    "Collected in 2017 and 2019 between June and September\n",
    " - 2017-07-25  \n",
    " - 2017-08-22  \n",
    " - 2017-09-28  \n",
    " - 2019-06-02  \n",
    " - 2019-07-25  \n",
    " - 2019-08-04   \n",
    " - 2019-08-27  \n",
    "  \n",
    "Delivered pre-corrected for terrain effects (using Shuttle Radar Topography Mission, Intermap, and other local elevation datasets), sensor geometry, and projected  \n",
    "  \n",
    "**Spatial resolution**: 3m   \n",
    "**Radiometric resolution**: 16 bit (top of atmosphere radiance radiometric range of 0-65536) 12 bit camera range (0 - 4096)  \n",
    "**Spectral resolution**: Four bands - blue, green, red and near infrared  \n",
    "**Spatial extent (per image)**: 25km x 25km  (8000 pixel x 8000 pixel arrays)"
   ]
  },
  {
   "cell_type": "markdown",
   "metadata": {},
   "source": [
    "### Packages used:"
   ]
  },
  {
   "cell_type": "markdown",
   "metadata": {},
   "source": [
    "numpy  \n",
    "matplotlib  \n",
    "rasterio  \n",
    "tensorflow - keras  \n",
    "`pandas`  \n",
    "`xarray`   "
   ]
  },
  {
   "cell_type": "markdown",
   "metadata": {},
   "source": [
    "### What is a Convolutional Neural Network?\n",
    "### What is image segmentation?"
   ]
  },
  {
   "cell_type": "markdown",
   "metadata": {},
   "source": [
    "### General Approach"
   ]
  },
  {
   "cell_type": "markdown",
   "metadata": {},
   "source": [
    "*Establish git workflow*\n",
    "\n",
    "**Preliminary steps**  \n",
    " - Download data (82 images)  \n",
    " - Distribute data  \n",
    "  \n",
    "**Processing steps**  \n",
    " 1. Convert data from top-of-atmosphere radiance to top-of-atmosphere reflectance (Michelle)  \n",
    " 2. Create training dataset by labelling samples  (Nga, Matt, and Shashank)\n",
    " 3. Build, modify, and train model on training dataset (Claire and Joshua)\n",
    " 4. Classify images (model + human help)"
   ]
  },
  {
   "cell_type": "code",
   "execution_count": null,
   "metadata": {},
   "outputs": [],
   "source": []
  }
 ],
 "metadata": {
  "kernelspec": {
   "display_name": "Python 3",
   "language": "python",
   "name": "python3"
  },
  "language_info": {
   "codemirror_mode": {
    "name": "ipython",
    "version": 3
   },
   "file_extension": ".py",
   "mimetype": "text/x-python",
   "name": "python",
   "nbconvert_exporter": "python",
   "pygments_lexer": "ipython3",
   "version": "3.7.3"
  }
 },
 "nbformat": 4,
 "nbformat_minor": 4
}
