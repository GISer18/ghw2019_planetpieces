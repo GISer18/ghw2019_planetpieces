{
 "cells": [
  {
   "cell_type": "code",
   "execution_count": 1,
   "metadata": {},
   "outputs": [],
   "source": [
    "import os\n",
    "import random\n",
    "import shutil\n",
    "import xarray as xr\n",
    "import numpy as np\n",
    "import matplotlib.pyplot as plt\n",
    "import data_tools\n",
    "import rasterio.shutil\n",
    "from PIL import Image\n",
    "\n",
    "%matplotlib inline"
   ]
  },
  {
   "cell_type": "code",
   "execution_count": 2,
   "metadata": {},
   "outputs": [],
   "source": [
    "# reproducibility\n",
    "seed = 19\n",
    "random.seed = seed\n",
    "np.random.seed = seed"
   ]
  },
  {
   "cell_type": "markdown",
   "metadata": {},
   "source": [
    "### Parameters for dataset"
   ]
  },
  {
   "cell_type": "code",
   "execution_count": 3,
   "metadata": {},
   "outputs": [],
   "source": [
    "TEST_PERCENT = 0.8\n",
    "SNOW_THRESHOLD = 2000"
   ]
  },
  {
   "cell_type": "markdown",
   "metadata": {},
   "source": [
    "## Make test dataset\n",
    "\n",
    "Creating test dataset from masking reflectance files in ~/home/jovyan/data"
   ]
  },
  {
   "cell_type": "markdown",
   "metadata": {},
   "source": [
    "#### Sourcing and Masking Data"
   ]
  },
  {
   "cell_type": "code",
   "execution_count": 4,
   "metadata": {},
   "outputs": [],
   "source": [
    "root_dir = '/home/jovyan/data/planet_flat/'\n",
    "dest_dir = '/home/jovyan/ghw2019_planetpieces/contributors/claire/unet-model/data/'"
   ]
  },
  {
   "cell_type": "code",
   "execution_count": 5,
   "metadata": {},
   "outputs": [],
   "source": [
    "filenames = os.listdir('/home/jovyan/data/planet_flat/')"
   ]
  },
  {
   "cell_type": "code",
   "execution_count": 6,
   "metadata": {},
   "outputs": [],
   "source": [
    "filenames = [f for f in filenames if f.endswith(\"Analytic_refl.tif\")]\n",
    "#filenames = filenames[:10]"
   ]
  },
  {
   "cell_type": "code",
   "execution_count": 7,
   "metadata": {},
   "outputs": [],
   "source": [
    "# break into training and test data\n",
    "random.shuffle(filenames)\n",
    "num_train_files = int(len(filenames)*TEST_PERCENT)\n",
    "filenames_train = filenames[:num_train_files]\n",
    "filenames_test = filenames[num_train_files:]"
   ]
  },
  {
   "cell_type": "code",
   "execution_count": null,
   "metadata": {},
   "outputs": [],
   "source": [
    "# create training data directories\n",
    "for filename in filenames_train:\n",
    "    filename = filename[:-4]\n",
    "    #shutil.copyfile(os.path.join(root_dir, filename, '.tif'), os.path.join(dest_dir,\"train/image\", filename))# copy file between data folders\n",
    "    rasterio.shutil.copy(os.path.join(root_dir, filename + '.tif'), os.path.join(dest_dir,\"train/image\", filename + '.png'),\n",
    "                  driver='PNG', \n",
    "                 strict=False)\n",
    "\n",
    "    raster = data_tools.read_raster(os.path.join(root_dir,filename + '.tif'), band=None)[0] # read in raster\n",
    "    mask = np.zeros(np.shape(raster[1])) # create mask\n",
    "    mask[np.where(raster[1] > SNOW_THRESHOLD)] = 1\n",
    "    mask_img = Image.fromarray(mask)\n",
    "    mask_img.save(os.path.join(dest_dir, \"train/label_tif\", filename + '.tif')) # save to correct folder\n",
    "    # convert to jpg\n",
    "    rasterio.shutil.copy(os.path.join(dest_dir, \"train/label_tif\", filename + '.tif'), os.path.join(dest_dir, \"train/label\", filename + '.png'),\n",
    "                  driver='PNG', \n",
    "                 strict=False)"
   ]
  },
  {
   "cell_type": "code",
   "execution_count": null,
   "metadata": {},
   "outputs": [],
   "source": [
    "# create test data directories\n",
    "for filename in filenames_test:\n",
    "    filename = filename[:-4]\n",
    "    #shutil.copyfile(os.path.join(root_dir, filename), os.path.join(dest_dir,\"test/image\", filename)) # copy file between data folders\n",
    "    rasterio.shutil.copy(os.path.join(root_dir, filename + '.tif'), os.path.join(dest_dir,\"test/image\", filename + '.png'),\n",
    "                  driver='PNG', \n",
    "                 strict=False)\n",
    "    \n",
    "    raster = data_tools.read_raster(os.path.join(root_dir,filename + '.tif'), band=None)[0] # read in raster\n",
    "    mask = np.zeros(np.shape(raster[1])) # create mask\n",
    "    mask[np.where(raster[1] > SNOW_THRESHOLD)] = 1\n",
    "    mask_img = Image.fromarray(mask)\n",
    "    mask_img.save(os.path.join(dest_dir, \"test/label_tif\", filename + '.tif')) # save to correct folder\n",
    "    # convert to jpg\n",
    "    rasterio.shutil.copy(os.path.join(dest_dir, \"test/label_tif\", filename + '.tif'), os.path.join(dest_dir, \"test/label\", filename + '.png'),\n",
    "                  driver='PNG', \n",
    "                 strict=False)"
   ]
  },
  {
   "cell_type": "code",
   "execution_count": null,
   "metadata": {},
   "outputs": [],
   "source": [
    "print(len(filenames_train), \"images in train dataset\")\n",
    "print(len(filenames_test), \"images in test dataset\")\n",
    "print(len(filenames_test+filenames_train), \"total images\")"
   ]
  }
 ],
 "metadata": {
  "kernelspec": {
   "display_name": "Python [conda env:notebook] *",
   "language": "python",
   "name": "conda-env-notebook-py"
  },
  "language_info": {
   "codemirror_mode": {
    "name": "ipython",
    "version": 3
   },
   "file_extension": ".py",
   "mimetype": "text/x-python",
   "name": "python",
   "nbconvert_exporter": "python",
   "pygments_lexer": "ipython3",
   "version": "3.7.3"
  }
 },
 "nbformat": 4,
 "nbformat_minor": 4
}
